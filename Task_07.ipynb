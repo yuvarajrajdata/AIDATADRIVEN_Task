{
  "nbformat": 4,
  "nbformat_minor": 0,
  "metadata": {
    "colab": {
      "provenance": [],
      "authorship_tag": "ABX9TyOfwrmLvptPpKipuQbToz7y",
      "include_colab_link": true
    },
    "kernelspec": {
      "name": "python3",
      "display_name": "Python 3"
    },
    "language_info": {
      "name": "python"
    }
  },
  "cells": [
    {
      "cell_type": "markdown",
      "metadata": {
        "id": "view-in-github",
        "colab_type": "text"
      },
      "source": [
        "<a href=\"https://colab.research.google.com/github/yuvarajrajdata/AIDATADRIVEN_Task/blob/main/Task_07.ipynb\" target=\"_parent\"><img src=\"https://colab.research.google.com/assets/colab-badge.svg\" alt=\"Open In Colab\"/></a>"
      ]
    },
    {
      "cell_type": "markdown",
      "source": [
        "# TASK : 07 dated at 06-11-2023"
      ],
      "metadata": {
        "id": "CfeXvGeo3UUq"
      }
    },
    {
      "cell_type": "code",
      "source": [
        "pip install fuzzywuzzy"
      ],
      "metadata": {
        "colab": {
          "base_uri": "https://localhost:8080/"
        },
        "id": "tM06zwleU8OB",
        "outputId": "5b3d5d6f-2161-401b-be4a-fad83e1872d2"
      },
      "execution_count": null,
      "outputs": [
        {
          "output_type": "stream",
          "name": "stdout",
          "text": [
            "Collecting fuzzywuzzy\n",
            "  Downloading fuzzywuzzy-0.18.0-py2.py3-none-any.whl (18 kB)\n",
            "Installing collected packages: fuzzywuzzy\n",
            "Successfully installed fuzzywuzzy-0.18.0\n"
          ]
        }
      ]
    },
    {
      "cell_type": "code",
      "execution_count": null,
      "metadata": {
        "id": "fuw_aY2J3RPA",
        "colab": {
          "base_uri": "https://localhost:8080/"
        },
        "outputId": "ba10fe1f-1705-469b-d610-383a65a15436"
      },
      "outputs": [
        {
          "output_type": "stream",
          "name": "stderr",
          "text": [
            "/usr/local/lib/python3.10/dist-packages/fuzzywuzzy/fuzz.py:11: UserWarning: Using slow pure-python SequenceMatcher. Install python-Levenshtein to remove this warning\n",
            "  warnings.warn('Using slow pure-python SequenceMatcher. Install python-Levenshtein to remove this warning')\n"
          ]
        }
      ],
      "source": [
        "from fuzzywuzzy import fuzz\n",
        "from fuzzywuzzy import process\n",
        "import pandas as pd"
      ]
    },
    {
      "cell_type": "code",
      "source": [
        "df = pd.read_csv('/content/loan_dataset.csv')\n",
        "\n",
        "df.columns"
      ],
      "metadata": {
        "id": "WVIzyGqW3g2r"
      },
      "execution_count": null,
      "outputs": []
    },
    {
      "cell_type": "code",
      "source": [
        "fixed_data = [ \"Loan Identifier\",\"id\", \"loan_status\", \"Gender\" , \"Married\" ,\"Martial Status\" , \"Dependents\" , \"Education\" , \"Self_Employed\" , \"Employee Status\" , \"ApplicantIncome\" , \"CoapplicantIncome\",\"Credit History of the applicant\" , \"income of applicant\",\"Loan_Amount_Term\" , \"  Requested  Loan Amount \" ]\n",
        "new_data = [\"Loan_ID\", \"gender\", \"married\", \"Dependent\", \"Education\" ,\"applicant_Income\", \"co applicant Income\",\"Loan_Amount_Term\", \"Credit_History\" ]\n"
      ],
      "metadata": {
        "id": "ZG0WmP88MZ3G"
      },
      "execution_count": null,
      "outputs": []
    },
    {
      "cell_type": "code",
      "source": [
        "for item in new_data:\n",
        "    print(f\"Matching for '{item}':\")\n",
        "    matches = process.extract(item, fixed_data, limit=3)\n",
        "    for match, score in matches:\n",
        "        percentage_match = (score / 100) * 100\n",
        "        if percentage_match > 58:\n",
        "            print(f\"{match} (Similarity Score: {score}, Percentage Match: {percentage_match}%)\")\n",
        "    print()\n"
      ],
      "metadata": {
        "colab": {
          "base_uri": "https://localhost:8080/"
        },
        "id": "nhG7swApSpLl",
        "outputId": "3cc3100a-cc34-4d50-a4f9-8ecb63c485ec"
      },
      "execution_count": null,
      "outputs": [
        {
          "output_type": "stream",
          "name": "stdout",
          "text": [
            "Matching for 'Loan_ID':\n",
            "id (Similarity Score: 90, Percentage Match: 90.0%)\n",
            "Loan Identifier (Similarity Score: 77, Percentage Match: 77.0%)\n",
            "loan_status (Similarity Score: 64, Percentage Match: 64.0%)\n",
            "\n",
            "Matching for 'gender':\n",
            "Gender (Similarity Score: 100, Percentage Match: 100.0%)\n",
            "Dependents (Similarity Score: 60, Percentage Match: 60.0%)\n",
            "\n",
            "Matching for 'married':\n",
            "Married (Similarity Score: 100, Percentage Match: 100.0%)\n",
            "\n",
            "Matching for 'Dependent':\n",
            "Dependents (Similarity Score: 95, Percentage Match: 95.0%)\n",
            "Gender (Similarity Score: 60, Percentage Match: 60.0%)\n",
            "\n",
            "Matching for 'Education':\n",
            "Education (Similarity Score: 100, Percentage Match: 100.0%)\n",
            "\n",
            "Matching for 'applicant_Income':\n",
            "ApplicantIncome (Similarity Score: 97, Percentage Match: 97.0%)\n",
            "CoapplicantIncome (Similarity Score: 91, Percentage Match: 91.0%)\n",
            "income of applicant (Similarity Score: 82, Percentage Match: 82.0%)\n",
            "\n",
            "Matching for 'co applicant Income':\n",
            "CoapplicantIncome (Similarity Score: 94, Percentage Match: 94.0%)\n",
            "income of applicant (Similarity Score: 90, Percentage Match: 90.0%)\n",
            "ApplicantIncome (Similarity Score: 88, Percentage Match: 88.0%)\n",
            "\n",
            "Matching for 'Loan_Amount_Term':\n",
            "Loan_Amount_Term (Similarity Score: 100, Percentage Match: 100.0%)\n",
            "\n",
            "Matching for 'Credit_History':\n",
            "Credit History of the applicant (Similarity Score: 84, Percentage Match: 84.0%)\n",
            "\n"
          ]
        }
      ]
    },
    {
      "cell_type": "code",
      "source": [],
      "metadata": {
        "id": "4IA4P1xfCmcS"
      },
      "execution_count": null,
      "outputs": []
    }
  ]
}